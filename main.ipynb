{
 "cells": [
  {
   "cell_type": "code",
   "execution_count": 1,
   "metadata": {},
   "outputs": [],
   "source": [
    "import pandas as pd\n",
    "import numpy as np"
   ]
  },
  {
   "cell_type": "code",
   "execution_count": 3,
   "metadata": {},
   "outputs": [],
   "source": [
    "train = pd.read_csv(\"option1-data/train.csv\")\n",
    "test = pd.read_csv(\"option1-data/test.csv\")"
   ]
  },
  {
   "cell_type": "code",
   "execution_count": 8,
   "metadata": {},
   "outputs": [
    {
     "name": "stdout",
     "output_type": "stream",
     "text": [
      "Index(['id', 'tid1', 'tid2', 'title1_en', 'title2_en', 'label'], dtype='object')\n",
      "            id    tid1    tid2  \\\n",
      "0       195611       0       1   \n",
      "1       191474       2       3   \n",
      "2        25300       2       4   \n",
      "3       123757       2       8   \n",
      "4       141761       2      11   \n",
      "...        ...     ...     ...   \n",
      "256437  113364  167562   48447   \n",
      "256438   49407  167562   49795   \n",
      "256439  130134  167562  114783   \n",
      "256440  101494  167562  137705   \n",
      "256441   89356  167563   66480   \n",
      "\n",
      "                                                title1_en  \\\n",
      "0       There are two new old-age insurance benefits f...   \n",
      "1       \"If you do not come to Shenzhen, sooner or lat...   \n",
      "2       \"If you do not come to Shenzhen, sooner or lat...   \n",
      "3       \"If you do not come to Shenzhen, sooner or lat...   \n",
      "4       \"If you do not come to Shenzhen, sooner or lat...   \n",
      "...                                                   ...   \n",
      "256437  egypt 's presidential election failed to win m...   \n",
      "256438  egypt 's presidential election failed to win m...   \n",
      "256439  egypt 's presidential election failed to win m...   \n",
      "256440  egypt 's presidential election failed to win m...   \n",
      "256441  Will the United States wage war on Iraq withou...   \n",
      "\n",
      "                                                title2_en      label  \n",
      "0       Police disprove \"bird's nest congress each per...  unrelated  \n",
      "1       Shenzhen's GDP outstrips Hong Kong? Shenzhen S...  unrelated  \n",
      "2       The GDP overtopped Hong Kong? Shenzhen clarifi...  unrelated  \n",
      "3       Shenzhen's GDP overtakes Hong Kong? Bureau of ...  unrelated  \n",
      "4       Shenzhen's GDP outpaces Hong Kong? Defending R...  unrelated  \n",
      "...                                                   ...        ...  \n",
      "256437  Salah is retiring? Football Association offici...  unrelated  \n",
      "256438  Liverpool's bid for Little Germany? The Echo's...  unrelated  \n",
      "256439  West Media Exposing Tallahlach has been recomm...  unrelated  \n",
      "256440  Rumor has it that Egypt is very united and the...  unrelated  \n",
      "256441  Saddam's daughter refutes rumors: no. 2 of Sad...  unrelated  \n",
      "\n",
      "[256442 rows x 6 columns]\n"
     ]
    }
   ],
   "source": [
    "print(train.columns)\n",
    "print(train)"
   ]
  }
 ],
 "metadata": {
  "interpreter": {
   "hash": "8863bc9f87f47bd2008a4695b5bab9740770442e875ae79bf3eb65feba0a0757"
  },
  "kernelspec": {
   "display_name": "Python 3.9.7 ('base')",
   "language": "python",
   "name": "python3"
  },
  "language_info": {
   "codemirror_mode": {
    "name": "ipython",
    "version": 3
   },
   "file_extension": ".py",
   "mimetype": "text/x-python",
   "name": "python",
   "nbconvert_exporter": "python",
   "pygments_lexer": "ipython3",
   "version": "3.9.7"
  },
  "orig_nbformat": 4
 },
 "nbformat": 4,
 "nbformat_minor": 2
}
